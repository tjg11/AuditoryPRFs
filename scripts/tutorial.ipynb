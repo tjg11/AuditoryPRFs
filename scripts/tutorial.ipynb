{
 "cells": [
  {
   "cell_type": "markdown",
   "id": "8b017ea8",
   "metadata": {},
   "source": []
  },
  {
   "cell_type": "markdown",
   "id": "3f17f7de",
   "metadata": {},
   "source": [
    "# Auditory pRFs Tutorial\n",
    "\n",
    "---\n",
    "\n",
    "This tutorial is designed to aid in the understanding of each individual \n",
    "function in this project. Sample data is provided as a starting point,\n",
    "although custom data can be substituted at various steps if necessary.\n",
    "\n",
    "---"
   ]
  },
  {
   "cell_type": "code",
   "execution_count": 4,
   "id": "b52ad58b",
   "metadata": {},
   "outputs": [],
   "source": [
    "# import functions in project\n",
    "from setup_directories import create_sub_folders\n",
    "from batch_convolve_hrf import batch_convolve\n",
    "from batch_get_contrast_maps import batch_contrast_maps\n",
    "from batch_stimulus_design import batch_stimulus_design\n",
    "from convolve_hrf import convolve_hrf\n",
    "from find_prf_updated import find_prf\n",
    "from get_rois_reworked import get_rois"
   ]
  },
  {
   "cell_type": "markdown",
   "id": "766d5bf1",
   "metadata": {},
   "source": [
    "## Step 0: Setup Directories, Stimulus Variables, and Paths\n",
    "\n",
    "---\n",
    "\n",
    "In order for all of these functions to work together, we need to make sure that\n",
    "the directories are in the expected format. To do so, complete each of the steps\n",
    "below:\n",
    "\n",
    "- If one doesn't exist, create a .env file in the in the project directory (i.e.\n",
    "\"C:\\\\Users\\\\{your_username}\\\\Documents\\\\GitHub\\\\auditoryprfs\\\\.env\")\n",
    "\n",
    "- Within this file, copy and paste the following:\n",
    "\n",
    "\n",
    "```\n",
    "\n",
    "# BASE PATH (use this if data is being stored elsewhere)\n",
    "BASE_PATH = \"C:\\\\Users\\\\{path_to_data}\\\\\"\n",
    "\n",
    "# MAIN PATH FOR REPOSITORY\n",
    "MAIN_PATH = \"C:\\\\Users\\\\{your_username}\\\\Documents\\\\GitHub\\\\AuditoryPRFs\"\n",
    "\n",
    "# PATH FOR SAMPLE DATA (replace MAIN_PATH with BASE_PATH if not using sample data)\n",
    "ORIG_PATH = \"${MAIN_PATH}\\\\sample_data\"\n",
    "\n",
    "# PATH FOR CREATED DATA\n",
    "DATA_PATH = \"${MAIN_PATH}\\data\"\n",
    "\n",
    "# LIST OF SUBJECT IDS\n",
    "SUB_IDS = '[\"sample_sub_01\",\n",
    "            \"sample_sub_02\",\n",
    "           ]'\n",
    "\n",
    "# AREAS TO INCLUDE IN ROIS\n",
    "ROI_AREAS = '[\"Left-Cerebral-Cortex\",\n",
    "            \"Right-Cerebral-Cortex\"]'\n",
    "\n",
    "# NAMING STRUCTURE FOR SEGMENTATION FILES\n",
    "SEG_NAME = \"_ses-01_task-ptlocal_run-1_space-T1w_desc-aseg_dseg.nii.gz\"\n",
    "# NAMING STRUCUTRE FOR BRAIN MASK FILES\n",
    "MASK_NAME = \"_ses-01_task-ptlocal_run-1_space-T1w_desc-brain_mask.nii.gz\"\n",
    "# NAMING STRUCTURE FOR P-VALUE FILES\n",
    "P_NAME = \"_pvalues_sound-silent.nii.gz\"\n",
    "# NAMING STRUCTURE FOR Z-SCORE FILES\n",
    "Z_NAME = \"_zscores_sound-silent.nii.gz\"\n",
    "\n",
    "```\n",
    "\n",
    "- Replace information in path variables to point to real paths in your local environment (note: file separators may need to be changed depending on OS)\n",
    "\n",
    "- If using sample data provided in the project, skip the following step!\n",
    "\n",
    "- If not using sample data, set base_path to point to your data, and replace MAIN_PATH in ORIG_PATH with BASE_PATH, and then edit SUB_IDS to match your own data"
   ]
  },
  {
   "cell_type": "code",
   "execution_count": null,
   "id": "a431ad3d",
   "metadata": {},
   "outputs": [],
   "source": [
    "# Once the above steps have been compelted, this cell can be ran to create\n",
    "# subdirectories in the data folder for each subject id\n",
    "\n",
    "files_created = create_sub_folders()\n",
    "\n",
    "print(\"The number of files created should be equal to the number of subject IDs in .env\")\n",
    "print(f\"Number of files created: {files_created}\")"
   ]
  },
  {
   "cell_type": "markdown",
   "id": "db04dec6",
   "metadata": {},
   "source": [
    "## Step 1: Create stimulus files from .mat files\n",
    "\n",
    "---\n",
    "\n",
    "This step is optional if you already have a stimulus record saved in a\n",
    "compatable format (e.g. a pickle file). However, if your stimulus is stored \n",
    "in a specific format within a .mat file, then this will help! By using the\n",
    "stimulus related parameters defined in settings.py, this function will extract\n",
    "and save stimulus information in a binary format so we can use it to find our\n",
    "pRFs!\n",
    "\n",
    "---"
   ]
  },
  {
   "cell_type": "code",
   "execution_count": null,
   "id": "f4c532bb",
   "metadata": {},
   "outputs": [],
   "source": [
    "# Since we have already set up our environment variables, we can just call the\n",
    "# batch function for this step and it will create stimulus files for each \n",
    "# subject in their subdirectories\n",
    "\n",
    "files_created = batch_stimulus_design()\n",
    "\n",
    "print(f\"The number of stimulus files created: {files_created}\")"
   ]
  },
  {
   "cell_type": "markdown",
   "id": "2b4665a4",
   "metadata": {},
   "source": [
    "## Step 2: Convolve our stimulus files with an hRF\n",
    "\n",
    "---\n",
    "\n",
    "This step is relativley straightforward. Using our stimulus files from the\n",
    "previous step (or your own), we are going to convolve each one of them with\n",
    "a hemodynamic response function (hRF). After this step is completed, we will\n",
    "have separate pickle files for each subject containing the convolved version\n",
    "of their stimulus record!\n",
    "\n",
    "---"
   ]
  }
 ],
 "metadata": {
  "kernelspec": {
   "display_name": "Python 3 (ipykernel)",
   "language": "python",
   "name": "python3"
  },
  "language_info": {
   "codemirror_mode": {
    "name": "ipython",
    "version": 3
   },
   "file_extension": ".py",
   "mimetype": "text/x-python",
   "name": "python",
   "nbconvert_exporter": "python",
   "pygments_lexer": "ipython3",
   "version": "3.9.7"
  }
 },
 "nbformat": 4,
 "nbformat_minor": 5
}
